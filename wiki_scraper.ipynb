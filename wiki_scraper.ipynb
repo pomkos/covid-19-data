{
 "cells": [
  {
   "cell_type": "code",
   "execution_count": 1,
   "metadata": {},
   "outputs": [],
   "source": [
    "import pandas as pd\n",
    "import numpy as np"
   ]
  },
  {
   "cell_type": "code",
   "execution_count": 2,
   "metadata": {},
   "outputs": [],
   "source": [
    "def list_diff(list1,list2):\n",
    "    '''\n",
    "    Finds what is missing from, or what is different between, the two lists.\n",
    "    \n",
    "    return\n",
    "    ------\n",
    "    list_difference: list\n",
    "    '''\n",
    "    list_difference = {}\n",
    "    \n",
    "    if len(list1) > len(list2):\n",
    "        bigger = list1\n",
    "        smaller = list2\n",
    "        small_list = 'list2'\n",
    "    else:\n",
    "        bigger = list2\n",
    "        smaller = list1\n",
    "        small_list = 'list1'\n",
    "        \n",
    "    for item in bigger:\n",
    "        if item not in smaller:\n",
    "            list_difference[item] = f'missing from {small_list}'\n",
    "\n",
    "    return list_difference"
   ]
  },
  {
   "cell_type": "markdown",
   "metadata": {},
   "source": [
    "[Scraping a wikipedia table](https://scipython.com/blog/scraping-a-wikipedia-table-with-beautiful-soup/)"
   ]
  },
  {
   "cell_type": "markdown",
   "metadata": {},
   "source": [
    "## Governor Affiliation"
   ]
  },
  {
   "cell_type": "markdown",
   "metadata": {},
   "source": [
    "[Wiki link](https://en.wikipedia.org/wiki/List_of_United_States_governors)"
   ]
  },
  {
   "cell_type": "code",
   "execution_count": 3,
   "metadata": {},
   "outputs": [],
   "source": [
    "import urllib.request\n",
    "\n",
    "url = \"https://en.wikipedia.org/wiki/List_of_United_States_governors\"\n",
    "req = urllib.request.urlopen(url)\n",
    "article = req.read().decode()\n",
    "\n",
    "with open('usa_govs.html', 'w') as fo:\n",
    "    fo.write(article)"
   ]
  },
  {
   "cell_type": "code",
   "execution_count": 4,
   "metadata": {},
   "outputs": [],
   "source": [
    "columns=['State','Portrait','Governor','Party','Born','Prior public experience','Inauguration','End of term','Past governors']\n",
    "wiki_exec_scrape = pd.DataFrame(columns=columns)"
   ]
  },
  {
   "cell_type": "code",
   "execution_count": 5,
   "metadata": {},
   "outputs": [],
   "source": [
    "from bs4 import BeautifulSoup\n",
    "\n",
    "# Load article, turn into soup and get the <table>s.\n",
    "article = open('usa_govs.html').read()\n",
    "soup = BeautifulSoup(article, 'html.parser')\n",
    "tables = soup.find_all('table', class_='sortable')\n",
    "\n",
    "# Search through the tables for the one with the headings we want.\n",
    "for table in tables:\n",
    "    ths = table.find_all('th')\n",
    "    headings = [th.text.strip() for th in ths]\n",
    "    if headings[:9] == columns:\n",
    "        # this should theoretically break immediately at the first table, but it doesn't.\n",
    "        break\n",
    "\n",
    "# Extract the columns we want and write to a semicolon-delimited text file.\n",
    "# The first table in the tables list represents governors\n",
    "for tr in tables[0].find_all('tr'):\n",
    "    tds = tr.find_all('td')\n",
    "    if not tds:\n",
    "        continue\n",
    "    state,port,gov,party,born,exp,inaug,end_term,past_govs,test = [td.text.strip() for td in tds[:10]]\n",
    "    d = pd.DataFrame(data={\n",
    "        'State':[state],\n",
    "        'Portrait':[port],\n",
    "        'Governor':[gov],\n",
    "        'Party':[party],\n",
    "        'Born':[born],\n",
    "        'Prior public experience':[exp],\n",
    "        'Inauguration':[inaug],\n",
    "        'End of term':[end_term],\n",
    "        'Past governors':[past_govs],\n",
    "        'test':[test]\n",
    "    })\n",
    "    wiki_exec_scrape = wiki_exec_scrape.append(d)"
   ]
  },
  {
   "cell_type": "code",
   "execution_count": 6,
   "metadata": {},
   "outputs": [],
   "source": [
    "del wiki_exec_scrape['Portrait']\n",
    "del wiki_exec_scrape['Party']\n",
    "del wiki_exec_scrape['test']"
   ]
  },
  {
   "cell_type": "code",
   "execution_count": 7,
   "metadata": {},
   "outputs": [],
   "source": [
    "wiki_exec_scrape.columns = ['state','governor','party','born','prior_exp','inauguration','end_term']\n",
    "wiki_exec_scrape = wiki_exec_scrape.reset_index(drop = True)\n",
    "wiki_exec_scrape['birth_date'] = wiki_exec_scrape['born'].str.extract('(\\d{4}-\\d{1,2}-\\d{1,2})')\n",
    "wiki_exec_scrape['birth_date'] = pd.to_datetime(wiki_exec_scrape['birth_date'])\n",
    "wiki_exec_scrape['term_limit'] = wiki_exec_scrape['end_term'].str.contains('term limits')\n",
    "wiki_exec_scrape['fed_exp'] = wiki_exec_scrape['prior_exp'].str.contains('U.S.')\n",
    "wiki_exec_scrape['age'] = wiki_exec_scrape['born'].str.extract('age\\s(\\d\\d)')\n",
    "wiki_exec_scrape['inauguration'] = pd.to_datetime(wiki_exec_scrape['inauguration'])\n",
    "wiki_exec_scrape['age_of_inaug'] = (wiki_exec_scrape['inauguration'] - wiki_exec_scrape['birth_date'])/365.25\n",
    "wiki_exec_scrape['retiring'] = wiki_exec_scrape['end_term'].str.contains('retiring')"
   ]
  },
  {
   "cell_type": "code",
   "execution_count": 8,
   "metadata": {},
   "outputs": [],
   "source": [
    "wiki_exec_scrape['end_term'] = wiki_exec_scrape['end_term'].str.replace('\\(term limits\\)','')\n",
    "wiki_exec_scrape['end_term'] = wiki_exec_scrape['end_term'].str.replace('\\(retiring\\)','')\n",
    "wiki_exec_scrape['end_term'] = wiki_exec_scrape['end_term'].str.replace(' ','')\n",
    "wiki_exec_scrape['end_term'] = wiki_exec_scrape['end_term'].str.replace(' ','')\n",
    "wiki_exec_scrape.loc[31,'end_term'] = 2022 # term limits take effect in state\n",
    "wiki_exec_scrape.loc[47,'party'] = 'Republican' # identifies as Republican at national level\n",
    "wiki_exec_scrape.loc[22,'party'] = 'Democratic' # part of Democratic party, but Democratic-Farmer-Labor name at state level"
   ]
  },
  {
   "cell_type": "code",
   "execution_count": 9,
   "metadata": {},
   "outputs": [],
   "source": [
    "del wiki_exec_scrape['born']"
   ]
  },
  {
   "cell_type": "code",
   "execution_count": 10,
   "metadata": {},
   "outputs": [
    {
     "name": "stdout",
     "output_type": "stream",
     "text": [
      "<class 'pandas.core.frame.DataFrame'>\n",
      "RangeIndex: 50 entries, 0 to 49\n",
      "Data columns (total 12 columns):\n",
      " #   Column        Non-Null Count  Dtype          \n",
      "---  ------        --------------  -----          \n",
      " 0   state         50 non-null     object         \n",
      " 1   governor      50 non-null     object         \n",
      " 2   party         50 non-null     object         \n",
      " 3   prior_exp     50 non-null     object         \n",
      " 4   inauguration  50 non-null     datetime64[ns] \n",
      " 5   end_term      50 non-null     object         \n",
      " 6   birth_date    50 non-null     datetime64[ns] \n",
      " 7   term_limit    50 non-null     bool           \n",
      " 8   fed_exp       50 non-null     bool           \n",
      " 9   age           50 non-null     object         \n",
      " 10  age_of_inaug  50 non-null     timedelta64[ns]\n",
      " 11  retiring      50 non-null     bool           \n",
      "dtypes: bool(3), datetime64[ns](2), object(6), timedelta64[ns](1)\n",
      "memory usage: 3.8+ KB\n"
     ]
    }
   ],
   "source": [
    "wiki_exec_scrape.info()"
   ]
  },
  {
   "cell_type": "code",
   "execution_count": 11,
   "metadata": {},
   "outputs": [],
   "source": [
    "wiki_exec_scrape = wiki_exec_scrape.astype({\n",
    "    'end_term':int,\n",
    "    'age':int\n",
    "})"
   ]
  },
  {
   "cell_type": "code",
   "execution_count": 12,
   "metadata": {},
   "outputs": [
    {
     "ename": "NameError",
     "evalue": "name 'statepop' is not defined",
     "output_type": "error",
     "traceback": [
      "\u001b[0;31m---------------------------------------------------------------------------\u001b[0m",
      "\u001b[0;31mNameError\u001b[0m                                 Traceback (most recent call last)",
      "\u001b[0;32m<ipython-input-12-9c6cf7304b33>\u001b[0m in \u001b[0;36m<module>\u001b[0;34m\u001b[0m\n\u001b[0;32m----> 1\u001b[0;31m \u001b[0mlist_diff\u001b[0m\u001b[0;34m(\u001b[0m\u001b[0mwiki_exec_scrape\u001b[0m\u001b[0;34m[\u001b[0m\u001b[0;34m'state'\u001b[0m\u001b[0;34m]\u001b[0m\u001b[0;34m.\u001b[0m\u001b[0munique\u001b[0m\u001b[0;34m(\u001b[0m\u001b[0;34m)\u001b[0m\u001b[0;34m,\u001b[0m\u001b[0mstatepop\u001b[0m\u001b[0;34m[\u001b[0m\u001b[0;34m'state'\u001b[0m\u001b[0;34m]\u001b[0m\u001b[0;34m.\u001b[0m\u001b[0munique\u001b[0m\u001b[0;34m(\u001b[0m\u001b[0;34m)\u001b[0m\u001b[0;34m)\u001b[0m\u001b[0;34m\u001b[0m\u001b[0;34m\u001b[0m\u001b[0m\n\u001b[0m",
      "\u001b[0;31mNameError\u001b[0m: name 'statepop' is not defined"
     ]
    }
   ],
   "source": [
    "list_diff(wiki_exec_scrape['state'].unique(),statepop['state'].unique())"
   ]
  },
  {
   "cell_type": "code",
   "execution_count": 13,
   "metadata": {},
   "outputs": [],
   "source": [
    "districts = pd.DataFrame(data={\n",
    "    'state':['District of Columbia', 'Puerto Rico'],\n",
    "    'governor':['Muriel Bowser', 'Wanda Vázquez Garced'],\n",
    "    'party':['Democratic','Republican'],\n",
    "    'prior_exp':['Council of the District of Columbia','Secretary of Justice'],\n",
    "    'inauguration':[pd.to_datetime('2015-Jan-2'),pd.to_datetime('2019-Aug-7')],\n",
    "    'end_term':[2023,2021],\n",
    "    'birth_date':[pd.to_datetime('1972-Aug-2'),pd.to_datetime('1960-July-9')],\n",
    "    'term_limit':[False,False],\n",
    "    'fed_exp':[False,False],\n",
    "    'age':[48,60],\n",
    "    'retiring':[False,False]\n",
    "})"
   ]
  },
  {
   "cell_type": "code",
   "execution_count": 14,
   "metadata": {},
   "outputs": [],
   "source": [
    "districts['age_of_inaug'] = (districts['inauguration'] - districts['birth_date'])/365.25"
   ]
  },
  {
   "cell_type": "code",
   "execution_count": 15,
   "metadata": {},
   "outputs": [],
   "source": [
    "wiki_exec_scrape = wiki_exec_scrape.append(districts)"
   ]
  },
  {
   "cell_type": "code",
   "execution_count": 16,
   "metadata": {},
   "outputs": [],
   "source": [
    "# Everyone is R or D\n",
    "wiki_exec_scrape['party'] = wiki_exec_scrape['party'].apply(lambda x: 'R' if x=='Republican' else 'D')"
   ]
  },
  {
   "cell_type": "code",
   "execution_count": 17,
   "metadata": {},
   "outputs": [
    {
     "ename": "NameError",
     "evalue": "name 'statepop' is not defined",
     "output_type": "error",
     "traceback": [
      "\u001b[0;31m---------------------------------------------------------------------------\u001b[0m",
      "\u001b[0;31mNameError\u001b[0m                                 Traceback (most recent call last)",
      "\u001b[0;32m<ipython-input-17-9c6cf7304b33>\u001b[0m in \u001b[0;36m<module>\u001b[0;34m\u001b[0m\n\u001b[0;32m----> 1\u001b[0;31m \u001b[0mlist_diff\u001b[0m\u001b[0;34m(\u001b[0m\u001b[0mwiki_exec_scrape\u001b[0m\u001b[0;34m[\u001b[0m\u001b[0;34m'state'\u001b[0m\u001b[0;34m]\u001b[0m\u001b[0;34m.\u001b[0m\u001b[0munique\u001b[0m\u001b[0;34m(\u001b[0m\u001b[0;34m)\u001b[0m\u001b[0;34m,\u001b[0m\u001b[0mstatepop\u001b[0m\u001b[0;34m[\u001b[0m\u001b[0;34m'state'\u001b[0m\u001b[0;34m]\u001b[0m\u001b[0;34m.\u001b[0m\u001b[0munique\u001b[0m\u001b[0;34m(\u001b[0m\u001b[0;34m)\u001b[0m\u001b[0;34m)\u001b[0m\u001b[0;34m\u001b[0m\u001b[0;34m\u001b[0m\u001b[0m\n\u001b[0m",
      "\u001b[0;31mNameError\u001b[0m: name 'statepop' is not defined"
     ]
    }
   ],
   "source": [
    "list_diff(wiki_exec_scrape['state'].unique(),statepop['state'].unique())"
   ]
  },
  {
   "cell_type": "markdown",
   "metadata": {},
   "source": [
    "## State Legislature Makeup"
   ]
  },
  {
   "cell_type": "markdown",
   "metadata": {},
   "source": [
    "[Wiki link](https://en.wikipedia.org/wiki/List_of_United_States_state_legislatures)"
   ]
  },
  {
   "cell_type": "code",
   "execution_count": 18,
   "metadata": {},
   "outputs": [],
   "source": [
    "import urllib.request\n",
    "\n",
    "url = \"https://en.wikipedia.org/wiki/List_of_United_States_state_legislatures\"\n",
    "req = urllib.request.urlopen(url)\n",
    "article = req.read().decode()\n",
    "\n",
    "#with open('usa_legis.html', 'w') as fo:\n",
    "    #fo.write(article)"
   ]
  },
  {
   "cell_type": "code",
   "execution_count": 19,
   "metadata": {},
   "outputs": [],
   "source": [
    "columns=['state','executive','legislature_name',\n",
    "         'low_house_name','low_party_strength','low_term_yrs',\n",
    "         'up_house_name','up_party_strength','up_term_yrs']\n",
    "wiki_leg_scrape = pd.DataFrame(columns=columns)"
   ]
  },
  {
   "cell_type": "code",
   "execution_count": 20,
   "metadata": {},
   "outputs": [],
   "source": [
    "from bs4 import BeautifulSoup\n",
    "\n",
    "# Load article, turn into soup and get the <table>s.\n",
    "soup = BeautifulSoup(article, 'html.parser')\n",
    "tables = soup.find_all('table', class_='sortable')\n",
    "\n",
    "# Search through the tables for the one with the headings we want.\n",
    "for table in tables:\n",
    "    ths = table.find_all('th')\n",
    "    headings = [th.text.strip() for th in ths]\n",
    "    if headings[:9] == columns:\n",
    "        # this should theoretically break immediately at the first table, but it doesn't.\n",
    "        break\n",
    "# Extract the columns we want and write to a semicolon-delimited text file.\n",
    "# The first table in the tables list represents governors\n",
    "for tr in tables[0].find_all('tr'):\n",
    "    tds = tr.find_all('td')\n",
    "    if not tds:\n",
    "        continue    \n",
    "    state,gov,legis_name,low_name,low_party_str,low_term_yrs,upper_name,upper_party_str,upper_term_yrs = [td.text.strip() for td in tds[:9]]\n",
    "    d = pd.DataFrame(data={\n",
    "        'state':[state],\n",
    "        'executive':[gov],\n",
    "        'legislature_name':[legis_name],\n",
    "        'low_house_name':[low_name],\n",
    "        'low_party_strength':[low_party_str],\n",
    "        'low_term_yrs':[low_term_yrs],\n",
    "        'up_house_name':[upper_name],\n",
    "        'up_party_strength':[upper_party_str],\n",
    "        'up_term_yrs':[upper_term_yrs]\n",
    "    })\n",
    "    wiki_leg_scrape = wiki_leg_scrape.append(d)"
   ]
  },
  {
   "cell_type": "code",
   "execution_count": 21,
   "metadata": {},
   "outputs": [],
   "source": [
    "wiki_leg_scrape = wiki_leg_scrape.reset_index(drop=True)"
   ]
  },
  {
   "cell_type": "code",
   "execution_count": 22,
   "metadata": {},
   "outputs": [],
   "source": [
    "import re"
   ]
  },
  {
   "cell_type": "code",
   "execution_count": 23,
   "metadata": {},
   "outputs": [],
   "source": [
    "def party_finder(cell, crit = 'maj_party'):\n",
    "    '''\n",
    "    Extracts party information from a string in the format of \"R 15-2\"\n",
    "    \n",
    "    input\n",
    "    -----\n",
    "    cell: str\n",
    "        String in the format of \"R 15-2\", with the first letter and number representing majority party\n",
    "    crit: str\n",
    "        Statistic to return. Can be one of \"maj_party\",\"min_party\",\"maj_part_num\",\"min_part_num\"\n",
    "    '''\n",
    "    try:\n",
    "    # regex creates 3 groups. See: https://regexr.com/5aibj\n",
    "        stat = re.search('([A-Z])\\s(\\d{1,}).(\\d{1,})', cell)\n",
    "    #######################\n",
    "        if crit == 'maj_party':\n",
    "        # first group is always a letter, either R or D\n",
    "            return stat.group(1)\n",
    "        elif crit == 'min_party':\n",
    "        # derive minority from first group\n",
    "            if stat.group(1) == 'R':\n",
    "                return 'D'\n",
    "            elif stat.group(1) == 'D':\n",
    "                return 'R'\n",
    "            else:\n",
    "                return 'I'\n",
    "        elif crit == 'maj_party_num':\n",
    "        # second group is always the majority number\n",
    "            return stat.group(2)\n",
    "        elif crit == 'min_party_num':\n",
    "        # third group is always the minority number\n",
    "            return stat.group(3)\n",
    "    except AttributeError:\n",
    "        return 'NaN'"
   ]
  },
  {
   "cell_type": "code",
   "execution_count": 24,
   "metadata": {},
   "outputs": [],
   "source": [
    "for new_col in ['maj_party','maj_party_num','min_party','min_party_num']:\n",
    "    wiki_leg_scrape[f'low_{new_col}'] = wiki_leg_scrape['low_party_strength'].apply(party_finder,crit=new_col)\n",
    "    wiki_leg_scrape[f'up_{new_col}'] = wiki_leg_scrape['up_party_strength'].apply(party_finder,crit=new_col)"
   ]
  },
  {
   "cell_type": "code",
   "execution_count": 25,
   "metadata": {},
   "outputs": [],
   "source": [
    "def ind_vac_finder(cell,crit):\n",
    "    '''\n",
    "    Finds the number of independents or vacancies in the state legislature\n",
    "    \n",
    "    input\n",
    "    -----\n",
    "    cell: str\n",
    "        String in the format of \"D 61–17, 1 ind, 1 vac\", with the first letter and number representing majority party\n",
    "    crit: str\n",
    "        Statistic to return. Can be one of \"ind\" or \"vac\"\n",
    "    '''\n",
    "    group = '(\\d{1,})\\s'\n",
    "    search = re.search(group+crit,cell.lower())\n",
    "    \n",
    "    if search == None:\n",
    "        return np.nan\n",
    "    else:\n",
    "        return search.group(1)"
   ]
  },
  {
   "cell_type": "code",
   "execution_count": 26,
   "metadata": {},
   "outputs": [],
   "source": [
    "for col in ['up','low']:\n",
    "    wiki_leg_scrape[f'{col}_vacancies'] = wiki_leg_scrape[f'{col}_party_strength'].apply(ind_vac_finder,crit='vac')"
   ]
  },
  {
   "cell_type": "code",
   "execution_count": 27,
   "metadata": {},
   "outputs": [],
   "source": [
    "for col in ['up','low']:\n",
    "    wiki_leg_scrape[f'{col}_indeps'] = wiki_leg_scrape[f'{col}_party_strength'].apply(ind_vac_finder,crit='ind')"
   ]
  },
  {
   "cell_type": "code",
   "execution_count": 28,
   "metadata": {},
   "outputs": [],
   "source": [
    "wiki_leg_scrape['test'] = wiki_leg_scrape['low_party_strength'].str.split(',')"
   ]
  },
  {
   "cell_type": "code",
   "execution_count": 29,
   "metadata": {},
   "outputs": [],
   "source": [
    "# True if the two houses have the same majority party\n",
    "wiki_leg_scrape['legislature_united'] = wiki_leg_scrape['low_maj_party'] == wiki_leg_scrape['up_maj_party']"
   ]
  },
  {
   "cell_type": "code",
   "execution_count": 30,
   "metadata": {},
   "outputs": [
    {
     "data": {
      "text/plain": [
       "2"
      ]
     },
     "execution_count": 30,
     "metadata": {},
     "output_type": "execute_result"
    }
   ],
   "source": [
    "abs(len(wiki_exec_scrape) - len(wiki_leg_scrape))"
   ]
  },
  {
   "cell_type": "markdown",
   "metadata": {},
   "source": [
    "What is different between the two tables?"
   ]
  },
  {
   "cell_type": "code",
   "execution_count": 31,
   "metadata": {},
   "outputs": [
    {
     "data": {
      "text/plain": [
       "{'District of Columbia': 'missing from list1',\n",
       " 'Puerto Rico': 'missing from list1'}"
      ]
     },
     "execution_count": 31,
     "metadata": {},
     "output_type": "execute_result"
    }
   ],
   "source": [
    "list_diff(wiki_leg_scrape['state'].unique(), wiki_exec_scrape['state'].unique())"
   ]
  },
  {
   "cell_type": "markdown",
   "metadata": {},
   "source": [
    "Since we are mostly interested in states, not territories or districts, an inner merge is done to keep only rows that are common between the two dataframes."
   ]
  },
  {
   "cell_type": "code",
   "execution_count": 32,
   "metadata": {},
   "outputs": [],
   "source": [
    "wiki_exec_scrape.columns = wiki_exec_scrape.columns + '_exec'"
   ]
  },
  {
   "cell_type": "code",
   "execution_count": 33,
   "metadata": {},
   "outputs": [],
   "source": [
    "state_gov = wiki_leg_scrape.merge(wiki_exec_scrape, left_on = 'state', right_on='state_exec', suffixes=('_leg','_exec'))"
   ]
  },
  {
   "cell_type": "code",
   "execution_count": 34,
   "metadata": {},
   "outputs": [],
   "source": [
    "state_gov['leg_united'] = (state_gov['low_maj_party'] == state_gov['up_maj_party'])\n",
    "\n",
    "state_gov['state_united'] = (state_gov['low_maj_party'] == state_gov['party_exec']) & \\\n",
    "                                  (state_gov['up_maj_party'] == state_gov['party_exec'])"
   ]
  },
  {
   "cell_type": "code",
   "execution_count": 44,
   "metadata": {},
   "outputs": [],
   "source": [
    "control = []\n",
    "for i in range(len(state_gov)):\n",
    "    row = state_gov.iloc[i,:]\n",
    "    if (row['state_united'] == True):\n",
    "        control.append(row['party_exec'])\n",
    "    elif row['leg_united'] == True:\n",
    "        control.append(row['up_maj_party'])\n",
    "    else:\n",
    "        control.append('divided')"
   ]
  },
  {
   "cell_type": "code",
   "execution_count": 45,
   "metadata": {},
   "outputs": [],
   "source": [
    "state_gov['state_control'] = control"
   ]
  },
  {
   "cell_type": "code",
   "execution_count": 50,
   "metadata": {},
   "outputs": [],
   "source": [
    "temp_df = state_gov[['state','party_exec','up_party_strength','low_party_strength','low_maj_party','state_control','state_united','leg_united']]"
   ]
  },
  {
   "cell_type": "code",
   "execution_count": 47,
   "metadata": {},
   "outputs": [
    {
     "data": {
      "text/html": [
       "<div>\n",
       "<style scoped>\n",
       "    .dataframe tbody tr th:only-of-type {\n",
       "        vertical-align: middle;\n",
       "    }\n",
       "\n",
       "    .dataframe tbody tr th {\n",
       "        vertical-align: top;\n",
       "    }\n",
       "\n",
       "    .dataframe thead th {\n",
       "        text-align: right;\n",
       "    }\n",
       "</style>\n",
       "<table border=\"1\" class=\"dataframe\">\n",
       "  <thead>\n",
       "    <tr style=\"text-align: right;\">\n",
       "      <th></th>\n",
       "      <th>state</th>\n",
       "      <th>party_exec</th>\n",
       "      <th>up_party_strength</th>\n",
       "      <th>low_party_strength</th>\n",
       "      <th>low_maj_party</th>\n",
       "      <th>state_control</th>\n",
       "      <th>state_united</th>\n",
       "      <th>leg_united</th>\n",
       "    </tr>\n",
       "  </thead>\n",
       "  <tbody>\n",
       "    <tr>\n",
       "      <th>1</th>\n",
       "      <td>Alaska</td>\n",
       "      <td>R</td>\n",
       "      <td>R 13–7</td>\n",
       "      <td>Coalition 23 (15D, 6R, 2 ind)–17R</td>\n",
       "      <td>NaN</td>\n",
       "      <td>divided</td>\n",
       "      <td>False</td>\n",
       "      <td>False</td>\n",
       "    </tr>\n",
       "    <tr>\n",
       "      <th>22</th>\n",
       "      <td>Minnesota</td>\n",
       "      <td>D</td>\n",
       "      <td>R 35–32</td>\n",
       "      <td>D 75–55, 4 New Rep</td>\n",
       "      <td>D</td>\n",
       "      <td>divided</td>\n",
       "      <td>False</td>\n",
       "      <td>False</td>\n",
       "    </tr>\n",
       "    <tr>\n",
       "      <th>26</th>\n",
       "      <td>Nebraska</td>\n",
       "      <td>R</td>\n",
       "      <td>R 30–18, 1 ind[nb 4]</td>\n",
       "      <td></td>\n",
       "      <td>NaN</td>\n",
       "      <td>divided</td>\n",
       "      <td>False</td>\n",
       "      <td>False</td>\n",
       "    </tr>\n",
       "  </tbody>\n",
       "</table>\n",
       "</div>"
      ],
      "text/plain": [
       "        state party_exec     up_party_strength  \\\n",
       "1      Alaska          R                R 13–7   \n",
       "22  Minnesota          D               R 35–32   \n",
       "26   Nebraska          R  R 30–18, 1 ind[nb 4]   \n",
       "\n",
       "                   low_party_strength low_maj_party state_control  \\\n",
       "1   Coalition 23 (15D, 6R, 2 ind)–17R           NaN       divided   \n",
       "22                 D 75–55, 4 New Rep             D       divided   \n",
       "26                                              NaN       divided   \n",
       "\n",
       "    state_united  leg_united  \n",
       "1          False       False  \n",
       "22         False       False  \n",
       "26         False       False  "
      ]
     },
     "execution_count": 47,
     "metadata": {},
     "output_type": "execute_result"
    }
   ],
   "source": [
    "temp_df[temp_df['state_control']=='divided']"
   ]
  },
  {
   "cell_type": "markdown",
   "metadata": {},
   "source": [
    "We notice three things:\n",
    "\n",
    "* Alaska is technically majority R, but coalition shares power\n",
    "* Minnesota is has different majority party at each legislature\n",
    "* Nebraska is majority R, but has no lower legislature\n",
    "\n",
    "Nebraska is directly edited to reflect `R` control, but Alaska and Minnesota is kept at `divided`."
   ]
  },
  {
   "cell_type": "code",
   "execution_count": 48,
   "metadata": {},
   "outputs": [],
   "source": [
    "state_gov.loc[26,'state_control'] = 'R' # they have no lower house"
   ]
  },
  {
   "cell_type": "code",
   "execution_count": null,
   "metadata": {},
   "outputs": [],
   "source": []
  }
 ],
 "metadata": {
  "kernelspec": {
   "display_name": "Data Python Env",
   "language": "python",
   "name": "data_env"
  },
  "language_info": {
   "codemirror_mode": {
    "name": "ipython",
    "version": 3
   },
   "file_extension": ".py",
   "mimetype": "text/x-python",
   "name": "python",
   "nbconvert_exporter": "python",
   "pygments_lexer": "ipython3",
   "version": "3.6.10"
  }
 },
 "nbformat": 4,
 "nbformat_minor": 4
}
